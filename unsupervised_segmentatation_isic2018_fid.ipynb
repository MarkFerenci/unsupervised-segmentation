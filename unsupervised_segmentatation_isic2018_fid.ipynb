{
  "nbformat": 4,
  "nbformat_minor": 0,
  "metadata": {
    "colab": {
      "name": "unsupervised-segmentatation-isic2018-fid.ipynb",
      "provenance": [],
      "collapsed_sections": [],
      "authorship_tag": "ABX9TyPVuDpDoUOcE/QpLkaT8tgP",
      "include_colab_link": true
    },
    "kernelspec": {
      "name": "python3",
      "display_name": "Python 3"
    },
    "language_info": {
      "name": "python"
    },
    "accelerator": "GPU"
  },
  "cells": [
    {
      "cell_type": "markdown",
      "metadata": {
        "id": "view-in-github",
        "colab_type": "text"
      },
      "source": [
        "<a href=\"https://colab.research.google.com/github/yuuiwqy622/unsupervised-segmentation/blob/main/unsupervised_segmentatation_isic2018_fid.ipynb\" target=\"_parent\"><img src=\"https://colab.research.google.com/assets/colab-badge.svg\" alt=\"Open In Colab\"/></a>"
      ]
    },
    {
      "cell_type": "markdown",
      "metadata": {
        "id": "R6qpzxEM-0jA"
      },
      "source": [
        "Based on https://blockgeni.com/how-to-implement-the-frechet-inception-distance-fid-for-evaluating-gans/"
      ]
    },
    {
      "cell_type": "code",
      "metadata": {
        "id": "YJljC71QvGlw"
      },
      "source": [
        "!pip install dominate"
      ],
      "execution_count": null,
      "outputs": []
    },
    {
      "cell_type": "code",
      "metadata": {
        "id": "APde5nxBvA8L"
      },
      "source": [
        "!git clone https://github.com/NVIDIA/pix2pixHD.git"
      ],
      "execution_count": null,
      "outputs": []
    },
    {
      "cell_type": "code",
      "metadata": {
        "id": "h6LIkdJffs-t"
      },
      "source": [
        "!./generate-images.sh"
      ],
      "execution_count": null,
      "outputs": []
    },
    {
      "cell_type": "code",
      "metadata": {
        "id": "fHJ6ESUk_XaD"
      },
      "source": [
        "# example of calculating the frechet inception distance in Keras\n",
        "import numpy as np\n",
        "from numpy import cov\n",
        "from numpy import trace\n",
        "from numpy import iscomplexobj\n",
        "from numpy import asarray\n",
        "from numpy.random import shuffle\n",
        "from numpy.random import randint\n",
        "from scipy.linalg import sqrtm\n",
        "from keras.applications.inception_v3 import InceptionV3\n",
        "from keras.applications.inception_v3 import preprocess_input\n",
        "from keras.datasets.mnist import load_data\n",
        "from skimage.transform import resize\n",
        "import time\n",
        "from PIL import Image\n",
        "from glob import glob"
      ],
      "execution_count": null,
      "outputs": []
    },
    {
      "cell_type": "code",
      "metadata": {
        "id": "ghJOs-MJ_beb"
      },
      "source": [
        "# scale an array of images to a new size\n",
        "def scale_images(images, new_shape):\n",
        "  images_list = []\n",
        "  for image in images:\n",
        "    # resize with nearest neighbor interpolation\n",
        "    new_image = resize(image, new_shape, 0)\n",
        "    # store\n",
        "    images_list.append(new_image)\n",
        "  return asarray(images_list)\n",
        " \n",
        "# calculate frechet inception distance\n",
        "def calculate_fid(model, images1, images2):\n",
        "  # calculate activations\n",
        "  act1 = model.predict(images1)\n",
        "  act2 = model.predict(images2)\n",
        "  # calculate mean and covariance statistics\n",
        "  mu1, sigma1 = act1.mean(axis=0), cov(act1, rowvar=False)\n",
        "  mu2, sigma2 = act2.mean(axis=0), cov(act2, rowvar=False)\n",
        "  # calculate sum squared difference between means\n",
        "  ssdiff = numpy.sum((mu1 - mu2)**2.0)\n",
        "  # calculate sqrt of product between cov\n",
        "  covmean = sqrtm(sigma1.dot(sigma2))\n",
        "  # check and correct imaginary numbers from sqrt\n",
        "  if iscomplexobj(covmean):\n",
        "   covmean = covmean.real\n",
        "  # calculate score\n",
        "  fid = ssdiff + trace(sigma1 + sigma2 - 2.0 * covmean)\n",
        "  return fid"
      ],
      "execution_count": null,
      "outputs": []
    },
    {
      "cell_type": "code",
      "metadata": {
        "id": "SHSkTi-ndIuM"
      },
      "source": [
        "def load_images(files: list):\n",
        "  ims = []\n",
        "  for f in files:\n",
        "    ims.append(np.asarray(Image.open(f)))\n",
        "  return np.asarray(ims)"
      ],
      "execution_count": null,
      "outputs": []
    },
    {
      "cell_type": "code",
      "metadata": {
        "colab": {
          "base_uri": "https://localhost:8080/"
        },
        "id": "xxIRVNT6_j-J",
        "outputId": "2b01dd23-f916-4792-d568-273d195b5080"
      },
      "source": [
        "start = time.time()\n",
        "fid_scores = []\n",
        "\n",
        "for epoch in range(10, 101, 10):\n",
        "  print(f'epoch: {epoch}')\n",
        "\n",
        "  files = glob(f'pix2ultra/results/pix2ultra/test_{epoch}/images/*_synthesized_image.jpg')\n",
        "  synth = load_images(files)\n",
        "  files = glob('isic-train-100/*.jpg')\n",
        "  orig = load_images(files)\n",
        "  print('Loaded', synth.shape, orig.shape)\n",
        "\n",
        "  model = InceptionV3(include_top=False, pooling='avg', input_shape=(256,256,3))\n",
        "\n",
        "  synth = synth.astype('float32')\n",
        "  orig = orig.astype('float32')\n",
        "\n",
        "  synth = preprocess_input(synth)\n",
        "  orig = preprocess_input(orig)\n",
        "\n",
        "  fid = calculate_fid(model, synth, orig)\n",
        "  print('FID (different): %.3f' % fid)\n",
        "  fid_scores.append((epoch, fid))\n",
        "\n",
        "fid_scores = sorted(fid_scores, key=lambda s: s[1])\n",
        "best_epoch, best_fid = fid_scores[0]\n",
        "print(f'Best epoch is {best_epoch} with FID: {best_fid}')\n",
        "end = time.time()\n",
        "print(f'Duration: {end-start} s')"
      ],
      "execution_count": null,
      "outputs": [
        {
          "output_type": "stream",
          "text": [
            "epoch: 10\n",
            "Loaded (100, 256, 256, 3) (100, 256, 256, 3)\n",
            "FID (different): 360.746\n",
            "epoch: 20\n",
            "Loaded (100, 256, 256, 3) (100, 256, 256, 3)\n",
            "FID (different): 320.621\n",
            "epoch: 30\n",
            "Loaded (100, 256, 256, 3) (100, 256, 256, 3)\n",
            "FID (different): 314.935\n",
            "epoch: 40\n",
            "Loaded (100, 256, 256, 3) (100, 256, 256, 3)\n",
            "FID (different): 321.539\n",
            "epoch: 50\n",
            "Loaded (100, 256, 256, 3) (100, 256, 256, 3)\n",
            "FID (different): 250.566\n",
            "epoch: 60\n",
            "Loaded (100, 256, 256, 3) (100, 256, 256, 3)\n",
            "FID (different): 246.002\n",
            "epoch: 70\n",
            "Loaded (100, 256, 256, 3) (100, 256, 256, 3)\n",
            "FID (different): 207.718\n",
            "epoch: 80\n",
            "Loaded (100, 256, 256, 3) (100, 256, 256, 3)\n",
            "FID (different): 191.612\n",
            "epoch: 90\n",
            "Loaded (100, 256, 256, 3) (100, 256, 256, 3)\n",
            "FID (different): 192.970\n",
            "epoch: 100\n",
            "Loaded (100, 256, 256, 3) (100, 256, 256, 3)\n",
            "FID (different): 191.929\n",
            "Best epoch is 80 with FID: 191.61154224422694\n",
            "Duration: 146.9808473587036 s\n"
          ],
          "name": "stdout"
        }
      ]
    }
  ]
}