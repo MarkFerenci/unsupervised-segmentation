{
  "nbformat": 4,
  "nbformat_minor": 0,
  "metadata": {
    "colab": {
      "name": "vgg16-tuberculosis-classification-x64.ipynb",
      "provenance": [],
      "collapsed_sections": [],
      "authorship_tag": "ABX9TyMK873U0qlF7/hO2Vutui8Z",
      "include_colab_link": true
    },
    "kernelspec": {
      "name": "python3",
      "display_name": "Python 3"
    },
    "language_info": {
      "name": "python"
    },
    "accelerator": "GPU"
  },
  "cells": [
    {
      "cell_type": "markdown",
      "metadata": {
        "id": "view-in-github",
        "colab_type": "text"
      },
      "source": [
        "<a href=\"https://colab.research.google.com/github/yuuiwqy622/unsupervised-segmentation/blob/main/vgg16_tuberculosis_classification_x64.ipynb\" target=\"_parent\"><img src=\"https://colab.research.google.com/assets/colab-badge.svg\" alt=\"Open In Colab\"/></a>"
      ]
    },
    {
      "cell_type": "markdown",
      "metadata": {
        "id": "-9OGThJ9LPv5"
      },
      "source": [
        "Learn transfer learning by fine tuning VGG16 for tuberculosis classification\n",
        "Based on https://github.com/zeeshannisar/Transfer-Learning-and-Fine-Tuning-with-Pre-Trained-Networks/blob/master/Transfer%20Learning%20with%20VGG16/Fine%20tuning%20with%20Pretrained%20VGG16%20for%20Tuberculosis%20Classification.ipynb"
      ]
    },
    {
      "cell_type": "markdown",
      "metadata": {
        "id": "AXewFgY8x8uW"
      },
      "source": [
        "Mount Onedrive with xray tuberculosis dataset"
      ]
    },
    {
      "cell_type": "code",
      "metadata": {
        "colab": {
          "base_uri": "https://localhost:8080/"
        },
        "id": "_yoQ6Hesx8JH",
        "outputId": "fca469c5-d046-4a58-d18b-860ee2f88220"
      },
      "source": [
        "!wget https://downloads.rclone.org/v1.54.1/rclone-v1.54.1-linux-amd64.deb\n",
        "!apt install ./rclone-v1.54.1-linux-amd64.deb\n",
        "!rm rclone-v1.54.1-linux-amd64.deb"
      ],
      "execution_count": null,
      "outputs": [
        {
          "output_type": "stream",
          "text": [
            "--2021-04-03 19:16:09--  https://downloads.rclone.org/v1.54.1/rclone-v1.54.1-linux-amd64.deb\n",
            "Resolving downloads.rclone.org (downloads.rclone.org)... 5.153.250.7, 2a02:24e0:8:61f9::1\n",
            "Connecting to downloads.rclone.org (downloads.rclone.org)|5.153.250.7|:443... connected.\n",
            "HTTP request sent, awaiting response... 200 OK\n",
            "Length: 14314950 (14M) [application/x-debian-package]\n",
            "Saving to: ‘rclone-v1.54.1-linux-amd64.deb’\n",
            "\n",
            "rclone-v1.54.1-linu 100%[===================>]  13.65M  9.66MB/s    in 1.4s    \n",
            "\n",
            "2021-04-03 19:16:11 (9.66 MB/s) - ‘rclone-v1.54.1-linux-amd64.deb’ saved [14314950/14314950]\n",
            "\n",
            "Reading package lists... Done\n",
            "Building dependency tree       \n",
            "Reading state information... Done\n",
            "Note, selecting 'rclone' instead of './rclone-v1.54.1-linux-amd64.deb'\n",
            "The following NEW packages will be installed:\n",
            "  rclone\n",
            "0 upgraded, 1 newly installed, 0 to remove and 30 not upgraded.\n",
            "Need to get 0 B/14.3 MB of archives.\n",
            "After this operation, 45.0 MB of additional disk space will be used.\n",
            "Get:1 /content/rclone-v1.54.1-linux-amd64.deb rclone amd64 1.54.1 [14.3 MB]\n",
            "Selecting previously unselected package rclone.\n",
            "(Reading database ... 160980 files and directories currently installed.)\n",
            "Preparing to unpack .../rclone-v1.54.1-linux-amd64.deb ...\n",
            "Unpacking rclone (1.54.1) ...\n",
            "Setting up rclone (1.54.1) ...\n",
            "Processing triggers for man-db (2.8.3-2ubuntu0.1) ...\n"
          ],
          "name": "stdout"
        }
      ]
    },
    {
      "cell_type": "code",
      "metadata": {
        "colab": {
          "base_uri": "https://localhost:8080/"
        },
        "id": "L4mbT72lyGnc",
        "outputId": "f421e768-dd68-4ec6-c25f-fe6e54801f5c"
      },
      "source": [
        "!rclone config"
      ],
      "execution_count": null,
      "outputs": [
        {
          "output_type": "stream",
          "text": [
            "2021/04/03 19:16:20 NOTICE: Config file \"/root/.config/rclone/rclone.conf\" not found - using defaults\n",
            "No remotes found - make a new one\n",
            "n) New remote\n",
            "s) Set configuration password\n",
            "q) Quit config\n",
            "n/s/q> n\n",
            "name> onedrive\n",
            "Type of storage to configure.\n",
            "Enter a string value. Press Enter for the default (\"\").\n",
            "Choose a number from below, or type in your own value\n",
            "\u001b[91m 1 / 1Fichier\n",
            "   \\ \"fichier\"\n",
            "\u001b[0m\u001b[92m 2 / Alias for an existing remote\n",
            "   \\ \"alias\"\n",
            "\u001b[0m\u001b[91m 3 / Amazon Drive\n",
            "   \\ \"amazon cloud drive\"\n",
            "\u001b[0m\u001b[92m 4 / Amazon S3 Compliant Storage Providers including AWS, Alibaba, Ceph, Digital Ocean, Dreamhost, IBM COS, Minio, and Tencent COS\n",
            "   \\ \"s3\"\n",
            "\u001b[0m\u001b[91m 5 / Backblaze B2\n",
            "   \\ \"b2\"\n",
            "\u001b[0m\u001b[92m 6 / Box\n",
            "   \\ \"box\"\n",
            "\u001b[0m\u001b[91m 7 / Cache a remote\n",
            "   \\ \"cache\"\n",
            "\u001b[0m\u001b[92m 8 / Citrix Sharefile\n",
            "   \\ \"sharefile\"\n",
            "\u001b[0m\u001b[91m 9 / Compress a remote\n",
            "   \\ \"compress\"\n",
            "\u001b[0m\u001b[92m10 / Dropbox\n",
            "   \\ \"dropbox\"\n",
            "\u001b[0m\u001b[91m11 / Encrypt/Decrypt a remote\n",
            "   \\ \"crypt\"\n",
            "\u001b[0m\u001b[92m12 / Enterprise File Fabric\n",
            "   \\ \"filefabric\"\n",
            "\u001b[0m\u001b[91m13 / FTP Connection\n",
            "   \\ \"ftp\"\n",
            "\u001b[0m\u001b[92m14 / Google Cloud Storage (this is not Google Drive)\n",
            "   \\ \"google cloud storage\"\n",
            "\u001b[0m\u001b[91m15 / Google Drive\n",
            "   \\ \"drive\"\n",
            "\u001b[0m\u001b[92m16 / Google Photos\n",
            "   \\ \"google photos\"\n",
            "\u001b[0m\u001b[91m17 / Hadoop distributed file system\n",
            "   \\ \"hdfs\"\n",
            "\u001b[0m\u001b[92m18 / Hubic\n",
            "   \\ \"hubic\"\n",
            "\u001b[0m\u001b[91m19 / In memory object storage system.\n",
            "   \\ \"memory\"\n",
            "\u001b[0m\u001b[92m20 / Jottacloud\n",
            "   \\ \"jottacloud\"\n",
            "\u001b[0m\u001b[91m21 / Koofr\n",
            "   \\ \"koofr\"\n",
            "\u001b[0m\u001b[92m22 / Local Disk\n",
            "   \\ \"local\"\n",
            "\u001b[0m\u001b[91m23 / Mail.ru Cloud\n",
            "   \\ \"mailru\"\n",
            "\u001b[0m\u001b[92m24 / Mega\n",
            "   \\ \"mega\"\n",
            "\u001b[0m\u001b[91m25 / Microsoft Azure Blob Storage\n",
            "   \\ \"azureblob\"\n",
            "\u001b[0m\u001b[92m26 / Microsoft OneDrive\n",
            "   \\ \"onedrive\"\n",
            "\u001b[0m\u001b[91m27 / OpenDrive\n",
            "   \\ \"opendrive\"\n",
            "\u001b[0m\u001b[92m28 / OpenStack Swift (Rackspace Cloud Files, Memset Memstore, OVH)\n",
            "   \\ \"swift\"\n",
            "\u001b[0m\u001b[91m29 / Pcloud\n",
            "   \\ \"pcloud\"\n",
            "\u001b[0m\u001b[92m30 / Put.io\n",
            "   \\ \"putio\"\n",
            "\u001b[0m\u001b[91m31 / QingCloud Object Storage\n",
            "   \\ \"qingstor\"\n",
            "\u001b[0m\u001b[92m32 / SSH/SFTP Connection\n",
            "   \\ \"sftp\"\n",
            "\u001b[0m\u001b[91m33 / Sugarsync\n",
            "   \\ \"sugarsync\"\n",
            "\u001b[0m\u001b[92m34 / Tardigrade Decentralized Cloud Storage\n",
            "   \\ \"tardigrade\"\n",
            "\u001b[0m\u001b[91m35 / Transparently chunk/split large files\n",
            "   \\ \"chunker\"\n",
            "\u001b[0m\u001b[92m36 / Union merges the contents of several upstream fs\n",
            "   \\ \"union\"\n",
            "\u001b[0m\u001b[91m37 / Webdav\n",
            "   \\ \"webdav\"\n",
            "\u001b[0m\u001b[92m38 / Yandex Disk\n",
            "   \\ \"yandex\"\n",
            "\u001b[0m\u001b[91m39 / Zoho\n",
            "   \\ \"zoho\"\n",
            "\u001b[0m\u001b[92m40 / http Connection\n",
            "   \\ \"http\"\n",
            "\u001b[0m\u001b[91m41 / premiumize.me\n",
            "   \\ \"premiumizeme\"\n",
            "\u001b[0m\u001b[92m42 / seafile\n",
            "   \\ \"seafile\"\n",
            "\u001b[0mStorage> 26\n",
            "** See help for onedrive backend at: https://rclone.org/onedrive/ **\n",
            "\n",
            "OAuth Client Id\n",
            "Leave blank normally.\n",
            "Enter a string value. Press Enter for the default (\"\").\n",
            "client_id> \n",
            "OAuth Client Secret\n",
            "Leave blank normally.\n",
            "Enter a string value. Press Enter for the default (\"\").\n",
            "client_secret> \n",
            "Choose national cloud region for OneDrive.\n",
            "Enter a string value. Press Enter for the default (\"global\").\n",
            "Choose a number from below, or type in your own value\n",
            "\u001b[91m 1 / Microsoft Cloud Global\n",
            "   \\ \"global\"\n",
            "\u001b[0m\u001b[92m 2 / Microsoft Cloud for US Government\n",
            "   \\ \"us\"\n",
            "\u001b[0m\u001b[91m 3 / Microsoft Cloud Germany\n",
            "   \\ \"de\"\n",
            "\u001b[0m\u001b[92m 4 / Azure and Office 365 operated by 21Vianet in China\n",
            "   \\ \"cn\"\n",
            "\u001b[0mregion> 1\n",
            "Edit advanced config? (y/n)\n",
            "y) Yes\n",
            "n) No (default)\n",
            "y/n> \n",
            "Remote config\n",
            "Use auto config?\n",
            " * Say Y if not sure\n",
            " * Say N if you are working on a remote or headless machine\n",
            "y) Yes (default)\n",
            "n) No\n",
            "y/n> n\n",
            "For this to work, you will need rclone available on a machine that has\n",
            "a web browser available.\n",
            "\n",
            "For more help and alternate methods see: https://rclone.org/remote_setup/\n",
            "\n",
            "Execute the following on the machine with the web browser (same rclone\n",
            "version recommended):\n",
            "\n",
            "\trclone authorize \"onedrive\"\n",
            "\n",
            "Then paste the result below:\n",
            "result> {\"access_token\":\"eyJ0eXAiOiJKV1QiLCJub25jZSI6IkFiQndwU0tjZ3NOZ2Q1Vl9vYmtMc2NxS1kydm1oa2lHMWNRclFWRDdGb1EiLCJhbGciOiJSUzI1NiIsIng1dCI6Im5PbzNaRHJPRFhFSzFqS1doWHNsSFJfS1hFZyIsImtpZCI6Im5PbzNaRHJPRFhFSzFqS1doWHNsSFJfS1hFZyJ9.eyJhdWQiOiIwMDAwMDAwMy0wMDAwLTAwMDAtYzAwMC0wMDAwMDAwMDAwMDAiLCJpc3MiOiJodHRwczovL3N0cy53aW5kb3dzLm5ldC9mMzQ1YzQwNi01MjY4LTQzYjAtYjE5Zi01ODYyZmE2ODMzZjgvIiwiaWF0IjoxNjE3NDc3NDY2LCJuYmYiOjE2MTc0Nzc0NjYsImV4cCI6MTYxNzQ4MTM2NiwiYWNjdCI6MCwiYWNyIjoiMSIsImFjcnMiOlsidXJuOnVzZXI6cmVnaXN0ZXJzZWN1cml0eWluZm8iLCJ1cm46bWljcm9zb2Z0OnJlcTEiLCJ1cm46bWljcm9zb2Z0OnJlcTIiLCJ1cm46bWljcm9zb2Z0OnJlcTMiLCJjMSIsImMyIiwiYzMiLCJjNCIsImM1IiwiYzYiLCJjNyIsImM4IiwiYzkiLCJjMTAiLCJjMTEiLCJjMTIiLCJjMTMiLCJjMTQiLCJjMTUiLCJjMTYiLCJjMTciLCJjMTgiLCJjMTkiLCJjMjAiLCJjMjEiLCJjMjIiLCJjMjMiLCJjMjQiLCJjMjUiXSwiYWlvIjoiRTJaZ1lPQm9aVDZ4SXUza1hKNm5jZWJsOFFWcm0vZVdQZXdLRHc5MmVSY3lkNHUrK2xVQSIsImFtciI6WyJwd2QiXSwiYXBwX2Rpc3BsYXluYW1lIjoicmNsb25lIiwiYXBwaWQiOiJiMTU2NjVkOS1lZGE2LTQwOTItODUzOS0wZWVjMzc2YWZkNTkiLCJhcHBpZGFjciI6IjEiLCJmYW1pbHlfbmFtZSI6IlNvYm9sZXYiLCJnaXZlbl9uYW1lIjoiTWFyayIsImlkdHlwIjoidXNlciIsImlwYWRkciI6IjE0Ny4zMi4xMDcuNjkiLCJuYW1lIjoiU29ib2xldiwgTWFyayIsIm9pZCI6IjlmZDI3NmNmLTA5Y2UtNGQwZi1hOWZlLTBmMGVmODcyZTlmNSIsIm9ucHJlbV9zaWQiOiJTLTEtNS0yMS0zNzkwMDc2NDcyLTgwNTczMzM2Mi03MjMyNDI1MC0xNjY0MzAiLCJwbGF0ZiI6IjE0IiwicHVpZCI6IjEwMDNCRkZEQTJGRTQ4QUMiLCJyaCI6IjAuQVFJQUJzUkY4MmhTc0VPeG4xaGktbWd6LU5sbFZyR203WkpBaFRrTzdEZHFfVmtDQUxNLiIsInNjcCI6IkZpbGVzLlJlYWQgRmlsZXMuUmVhZC5BbGwgRmlsZXMuUmVhZFdyaXRlIEZpbGVzLlJlYWRXcml0ZS5BbGwgU2l0ZXMuUmVhZC5BbGwgcHJvZmlsZSBvcGVuaWQgZW1haWwiLCJzaWduaW5fc3RhdGUiOlsia21zaSJdLCJzdWIiOiI0TGJGZFg1bEZ3aVEwYjVVa0lSc2hidmpoUWlfS2QxYVVaSlB2VGxmNlg0IiwidGVuYW50X3JlZ2lvbl9zY29wZSI6IkVVIiwidGlkIjoiZjM0NWM0MDYtNTI2OC00M2IwLWIxOWYtNTg2MmZhNjgzM2Y4IiwidW5pcXVlX25hbWUiOiJzb2JvbG1hMUBjdnV0LmN6IiwidXBuIjoic29ib2xtYTFAY3Z1dC5jeiIsInV0aSI6InB4djktd0lFNjBPb0xMZTczV1pVQUEiLCJ2ZXIiOiIxLjAiLCJ3aWRzIjpbImI3OWZiZjRkLTNlZjktNDY4OS04MTQzLTc2YjE5NGU4NTUwOSJdLCJ4bXNfc3QiOnsic3ViIjoiMy02M1ZnekVoTGlHNWgtb0ttdElTel9pTlVzZEZ5SEthT01DeTl4UUVjcyJ9LCJ4bXNfdGNkdCI6MTM0MDYxMTUwNH0.nr4QSOCniindgxlCbXBPEiTJRvhEkU5fll2YWeCo4GFhee2Qiw9FOIiddWvKmenzavvuFxMxP0HyJ39FvcYgYS_GCYkFlO9NfrDE6bCEDnxL7ETMCzo0boC1RAfj0b-TreCKicrPRAuSLqmUBSO2F5dPXG7E_l756L4pbcxJWam7S1RRrIcdAGp_CvZjD4Uwh8Qd9sSTcTH1EHLRcVvh1r1b3hwOKm2sMXJ_tqKJE8XnTFa2WXCtDWdx5uEeAM81jYkb6vf4yZgX_TyF4xObesVuPwooYw03dkalB4-eP0_fMpqPc3tgId6VmsLfcWJ_qbzkp41SJKswg3QAkot98Q\",\"token_type\":\"Bearer\",\"refresh_token\":\"0.AQIABsRF82hSsEOxn1hi-mgz-NllVrGm7ZJAhTkO7Ddq_VkCALM.AgABAAAAAAD--DLA3VO7QrddgJg7WevrAgDs_wQA9P8QuBWzvF9b6vOhb5HaXV8qFXC_hH-qTfWZcKUfk_e_LG10cYDonBTCSoUoFwsbQLRoggbyAatoMlg1F9VW7pvo4g-t8rPFCYj8N7yocaIhdRoyrlD_zl50nJq-Fck-V51QIW_MdvRI25Km0gSqEZ3JKoz6N-TkdiZRLK5U1CzU4T6hUnhUCowYuA0k7iiB6aTl_wkHpP14hkVhLrlsR5TGU6VqH1A5xyTQywhniZmOnRqyJYOb9zxp0u7ZVkb0IDZBIsPwXv8yZqlFOA5KCIhIA0vMgYomfdYPoxY3DfkBUaB9sfPw683OgYlPeJE7tO4IpbFYlN6K_r2GjUZa1U4ZCfwZKvPmHBnKEkWZXZhsv9GeNT_o--oxKVeUh7VP4zCLfm3ca0lFRJKt07p3NywgtvrVZbh3mYYDBTh9QiS9NysFqIAGaU9-QXDJ2EuKZLx8Ca_6kZcqPKW-7KKkXC2NaJ-q08ac8j6Xvp7wX39aPieuDV5LX59pILDuH5Dj9dw-xryL7pkOCuwh79Bx31Wze6o7ZIne72uGntInRjkuGx-bBoJ-__iSV2KNonyh4XuoB5dPo0_KPmYueJpHsJoawYFwUR3ylnvFHimBvVm0fEp2TLUB_jsqnfPyd4Q1_TVEJBy38-aSglEDLARDKjZL5ziGZAjEG9FnW4AJxoOFdum2COND2AIbWbDNitoTqU8ga0TGaYiJg6dnbKTCvcNpkyafz1dVt39e4dsesAfs8Ue7E6CaiMA4mcAb0u_cxow8TvS0eJIkvIRetXhHJqhsU-p2Oj88ubD0963NCl37yPiYV3tQbFo7HC2PxEId7Lr0eNvCn-luQ8-FznGaU6cJ4uMUBZP9LU2_bWuDqs31dpIiXtLwWIVeaYY77Mvc5o5J0j-z9CN1T69gxuST8UXKb_xWsKMzBuTmagOY3lf5pF-1mv4TuHvT6FUZp0NMLoZ7psmaJa_XBDUZDWm5r14hCLCEVwq_2IAGnSwhZ2Ovn-iCAtP5FUXx\",\"expiry\":\"2021-04-03T22:24:53.287255812+02:00\"}\n",
            "Choose a number from below, or type in an existing value\n",
            "\u001b[91m 1 / OneDrive Personal or Business\n",
            "   \\ \"onedrive\"\n",
            "\u001b[0m\u001b[92m 2 / Root Sharepoint site\n",
            "   \\ \"sharepoint\"\n",
            "\u001b[0m\u001b[91m 3 / Sharepoint site name or URL (e.g. mysite or https://contoso.sharepoint.com/sites/mysite)\n",
            "   \\ \"url\"\n",
            "\u001b[0m\u001b[92m 4 / Search for a Sharepoint site\n",
            "   \\ \"search\"\n",
            "\u001b[0m\u001b[91m 5 / Type in driveID (advanced)\n",
            "   \\ \"driveid\"\n",
            "\u001b[0m\u001b[92m 6 / Type in SiteID (advanced)\n",
            "   \\ \"siteid\"\n",
            "\u001b[0m\u001b[91m 7 / Sharepoint server-relative path (advanced, e.g. /teams/hr)\n",
            "   \\ \"path\"\n",
            "\u001b[0mYour choice> 1\n",
            "Found 1 drives, please select the one you want to use:\n",
            "0: OneDrive (business) id=b!M3De0PNtlEiLRmmsrlhwenTYjMhW5LhIrPbyzTeyYyso7aDfF94JTYioRCSU8DK9\n",
            "Chose drive to use:> 0\n",
            "Found drive 'root' of type 'business', URL: https://campuscvut-my.sharepoint.com/personal/sobolma1_cvut_cz/Documents\n",
            "Is that okay?\n",
            "y) Yes (default)\n",
            "n) No\n",
            "y/n> \n",
            "--------------------\n",
            "[onedrive]\n",
            "type = onedrive\n",
            "region = global\n",
            "token = {\"access_token\":\"eyJ0eXAiOiJKV1QiLCJub25jZSI6IkFiQndwU0tjZ3NOZ2Q1Vl9vYmtMc2NxS1kydm1oa2lHMWNRclFWRDdGb1EiLCJhbGciOiJSUzI1NiIsIng1dCI6Im5PbzNaRHJPRFhFSzFqS1doWHNsSFJfS1hFZyIsImtpZCI6Im5PbzNaRHJPRFhFSzFqS1doWHNsSFJfS1hFZyJ9.eyJhdWQiOiIwMDAwMDAwMy0wMDAwLTAwMDAtYzAwMC0wMDAwMDAwMDAwMDAiLCJpc3MiOiJodHRwczovL3N0cy53aW5kb3dzLm5ldC9mMzQ1YzQwNi01MjY4LTQzYjAtYjE5Zi01ODYyZmE2ODMzZjgvIiwiaWF0IjoxNjE3NDc3NDY2LCJuYmYiOjE2MTc0Nzc0NjYsImV4cCI6MTYxNzQ4MTM2NiwiYWNjdCI6MCwiYWNyIjoiMSIsImFjcnMiOlsidXJuOnVzZXI6cmVnaXN0ZXJzZWN1cml0eWluZm8iLCJ1cm46bWljcm9zb2Z0OnJlcTEiLCJ1cm46bWljcm9zb2Z0OnJlcTIiLCJ1cm46bWljcm9zb2Z0OnJlcTMiLCJjMSIsImMyIiwiYzMiLCJjNCIsImM1IiwiYzYiLCJjNyIsImM4IiwiYzkiLCJjMTAiLCJjMTEiLCJjMTIiLCJjMTMiLCJjMTQiLCJjMTUiLCJjMTYiLCJjMTciLCJjMTgiLCJjMTkiLCJjMjAiLCJjMjEiLCJjMjIiLCJjMjMiLCJjMjQiLCJjMjUiXSwiYWlvIjoiRTJaZ1lPQm9aVDZ4SXUza1hKNm5jZWJsOFFWcm0vZVdQZXdLRHc5MmVSY3lkNHUrK2xVQSIsImFtciI6WyJwd2QiXSwiYXBwX2Rpc3BsYXluYW1lIjoicmNsb25lIiwiYXBwaWQiOiJiMTU2NjVkOS1lZGE2LTQwOTItODUzOS0wZWVjMzc2YWZkNTkiLCJhcHBpZGFjciI6IjEiLCJmYW1pbHlfbmFtZSI6IlNvYm9sZXYiLCJnaXZlbl9uYW1lIjoiTWFyayIsImlkdHlwIjoidXNlciIsImlwYWRkciI6IjE0Ny4zMi4xMDcuNjkiLCJuYW1lIjoiU29ib2xldiwgTWFyayIsIm9pZCI6IjlmZDI3NmNmLTA5Y2UtNGQwZi1hOWZlLTBmMGVmODcyZTlmNSIsIm9ucHJlbV9zaWQiOiJTLTEtNS0yMS0zNzkwMDc2NDcyLTgwNTczMzM2Mi03MjMyNDI1MC0xNjY0MzAiLCJwbGF0ZiI6IjE0IiwicHVpZCI6IjEwMDNCRkZEQTJGRTQ4QUMiLCJyaCI6IjAuQVFJQUJzUkY4MmhTc0VPeG4xaGktbWd6LU5sbFZyR203WkpBaFRrTzdEZHFfVmtDQUxNLiIsInNjcCI6IkZpbGVzLlJlYWQgRmlsZXMuUmVhZC5BbGwgRmlsZXMuUmVhZFdyaXRlIEZpbGVzLlJlYWRXcml0ZS5BbGwgU2l0ZXMuUmVhZC5BbGwgcHJvZmlsZSBvcGVuaWQgZW1haWwiLCJzaWduaW5fc3RhdGUiOlsia21zaSJdLCJzdWIiOiI0TGJGZFg1bEZ3aVEwYjVVa0lSc2hidmpoUWlfS2QxYVVaSlB2VGxmNlg0IiwidGVuYW50X3JlZ2lvbl9zY29wZSI6IkVVIiwidGlkIjoiZjM0NWM0MDYtNTI2OC00M2IwLWIxOWYtNTg2MmZhNjgzM2Y4IiwidW5pcXVlX25hbWUiOiJzb2JvbG1hMUBjdnV0LmN6IiwidXBuIjoic29ib2xtYTFAY3Z1dC5jeiIsInV0aSI6InB4djktd0lFNjBPb0xMZTczV1pVQUEiLCJ2ZXIiOiIxLjAiLCJ3aWRzIjpbImI3OWZiZjRkLTNlZjktNDY4OS04MTQzLTc2YjE5NGU4NTUwOSJdLCJ4bXNfc3QiOnsic3ViIjoiMy02M1ZnekVoTGlHNWgtb0ttdElTel9pTlVzZEZ5SEthT01DeTl4UUVjcyJ9LCJ4bXNfdGNkdCI6MTM0MDYxMTUwNH0.nr4QSOCniindgxlCbXBPEiTJRvhEkU5fll2YWeCo4GFhee2Qiw9FOIiddWvKmenzavvuFxMxP0HyJ39FvcYgYS_GCYkFlO9NfrDE6bCEDnxL7ETMCzo0boC1RAfj0b-TreCKicrPRAuSLqmUBSO2F5dPXG7E_l756L4pbcxJWam7S1RRrIcdAGp_CvZjD4Uwh8Qd9sSTcTH1EHLRcVvh1r1b3hwOKm2sMXJ_tqKJE8XnTFa2WXCtDWdx5uEeAM81jYkb6vf4yZgX_TyF4xObesVuPwooYw03dkalB4-eP0_fMpqPc3tgId6VmsLfcWJ_qbzkp41SJKswg3QAkot98Q\",\"token_type\":\"Bearer\",\"refresh_token\":\"0.AQIABsRF82hSsEOxn1hi-mgz-NllVrGm7ZJAhTkO7Ddq_VkCALM.AgABAAAAAAD--DLA3VO7QrddgJg7WevrAgDs_wQA9P8QuBWzvF9b6vOhb5HaXV8qFXC_hH-qTfWZcKUfk_e_LG10cYDonBTCSoUoFwsbQLRoggbyAatoMlg1F9VW7pvo4g-t8rPFCYj8N7yocaIhdRoyrlD_zl50nJq-Fck-V51QIW_MdvRI25Km0gSqEZ3JKoz6N-TkdiZRLK5U1CzU4T6hUnhUCowYuA0k7iiB6aTl_wkHpP14hkVhLrlsR5TGU6VqH1A5xyTQywhniZmOnRqyJYOb9zxp0u7ZVkb0IDZBIsPwXv8yZqlFOA5KCIhIA0vMgYomfdYPoxY3DfkBUaB9sfPw683OgYlPeJE7tO4IpbFYlN6K_r2GjUZa1U4ZCfwZKvPmHBnKEkWZXZhsv9GeNT_o--oxKVeUh7VP4zCLfm3ca0lFRJKt07p3NywgtvrVZbh3mYYDBTh9QiS9NysFqIAGaU9-QXDJ2EuKZLx8Ca_6kZcqPKW-7KKkXC2NaJ-q08ac8j6Xvp7wX39aPieuDV5LX59pILDuH5Dj9dw-xryL7pkOCuwh79Bx31Wze6o7ZIne72uGntInRjkuGx-bBoJ-__iSV2KNonyh4XuoB5dPo0_KPmYueJpHsJoawYFwUR3ylnvFHimBvVm0fEp2TLUB_jsqnfPyd4Q1_TVEJBy38-aSglEDLARDKjZL5ziGZAjEG9FnW4AJxoOFdum2COND2AIbWbDNitoTqU8ga0TGaYiJg6dnbKTCvcNpkyafz1dVt39e4dsesAfs8Ue7E6CaiMA4mcAb0u_cxow8TvS0eJIkvIRetXhHJqhsU-p2Oj88ubD0963NCl37yPiYV3tQbFo7HC2PxEId7Lr0eNvCn-luQ8-FznGaU6cJ4uMUBZP9LU2_bWuDqs31dpIiXtLwWIVeaYY77Mvc5o5J0j-z9CN1T69gxuST8UXKb_xWsKMzBuTmagOY3lf5pF-1mv4TuHvT6FUZp0NMLoZ7psmaJa_XBDUZDWm5r14hCLCEVwq_2IAGnSwhZ2Ovn-iCAtP5FUXx\",\"expiry\":\"2021-04-03T22:24:53.287255812+02:00\"}\n",
            "drive_id = b!M3De0PNtlEiLRmmsrlhwenTYjMhW5LhIrPbyzTeyYyso7aDfF94JTYioRCSU8DK9\n",
            "drive_type = business\n",
            "--------------------\n",
            "y) Yes this is OK (default)\n",
            "e) Edit this remote\n",
            "d) Delete this remote\n",
            "y/e/d> \n",
            "Current remotes:\n",
            "\n",
            "Name                 Type\n",
            "====                 ====\n",
            "onedrive             onedrive\n",
            "\n",
            "e) Edit existing remote\n",
            "n) New remote\n",
            "d) Delete remote\n",
            "r) Rename remote\n",
            "c) Copy remote\n",
            "s) Set configuration password\n",
            "q) Quit config\n",
            "e/n/d/r/c/s/q> q\n"
          ],
          "name": "stdout"
        }
      ]
    },
    {
      "cell_type": "code",
      "metadata": {
        "colab": {
          "base_uri": "https://localhost:8080/"
        },
        "id": "m_IiCuRL0Xm-",
        "outputId": "da5c9f22-0b9c-4741-8fba-db2611de810b"
      },
      "source": [
        "!sudo mkdir /content/onedrive\n",
        "!nohup rclone --vfs-cache-mode writes mount onedrive: /content/onedrive &\n",
        "!rm nohup.out"
      ],
      "execution_count": null,
      "outputs": [
        {
          "output_type": "stream",
          "text": [
            "nohup: appending output to 'nohup.out'\n"
          ],
          "name": "stdout"
        }
      ]
    },
    {
      "cell_type": "code",
      "metadata": {
        "colab": {
          "base_uri": "https://localhost:8080/"
        },
        "id": "ZR55PUIZunky",
        "outputId": "3bc80963-1933-4eed-832b-854849491b76"
      },
      "source": [
        "!ls"
      ],
      "execution_count": null,
      "outputs": [
        {
          "output_type": "stream",
          "text": [
            "onedrive\n"
          ],
          "name": "stdout"
        }
      ]
    },
    {
      "cell_type": "code",
      "metadata": {
        "id": "AgwOuMhi3VmR",
        "colab": {
          "base_uri": "https://localhost:8080/"
        },
        "outputId": "c4784e3e-a8db-4f05-ac8a-54bef45b35f1"
      },
      "source": [
        "%matplotlib inline\n",
        "import os\n",
        "import numpy as np\n",
        "from keras.preprocessing.image import ImageDataGenerator\n",
        "\n",
        "# os.chdir('content/drive/My Drive/GitHub Repositories/Transfer Learning and Fine Tuning with Pre-Trained Networks')\n",
        "trainDir = 'onedrive/xray-classification-tuberculosis/xrays-x64/train'\n",
        "validDir = 'onedrive/xray-classification-tuberculosis/xrays-x64/test'\n",
        "\n",
        "IMG_SIZE = 64 # slightly smaller than vgg16 normally expects\n",
        "datagen = ImageDataGenerator(rescale=1./255, \n",
        "                             samplewise_center=False, \n",
        "                             samplewise_std_normalization=False, \n",
        "                             horizontal_flip = True, \n",
        "                             vertical_flip = False, \n",
        "                             height_shift_range = 0.15, \n",
        "                             width_shift_range = 0.15, \n",
        "                             rotation_range = 5, \n",
        "                             shear_range = 0.01,\n",
        "                             fill_mode = 'nearest',\n",
        "                             zoom_range=0.1,  \n",
        "                             )\n",
        "\n",
        "train_gen = datagen.flow_from_directory(\n",
        "    directory=trainDir,\n",
        "    target_size=(IMG_SIZE, IMG_SIZE),\n",
        "    color_mode=\"rgb\",\n",
        "    batch_size=16,\n",
        "    class_mode='categorical',\n",
        "    shuffle=True,\n",
        "    seed=2019)\n",
        "\n",
        "valid_gen = datagen.flow_from_directory(\n",
        "    directory=validDir,\n",
        "    target_size=(IMG_SIZE, IMG_SIZE),\n",
        "    color_mode=\"rgb\",\n",
        "    batch_size=16,\n",
        "    class_mode='categorical',\n",
        "    shuffle=False,\n",
        "    seed=2019)"
      ],
      "execution_count": null,
      "outputs": [
        {
          "output_type": "stream",
          "text": [
            "Found 721 images belonging to 2 classes.\n",
            "Found 79 images belonging to 2 classes.\n"
          ],
          "name": "stdout"
        }
      ]
    },
    {
      "cell_type": "code",
      "metadata": {
        "colab": {
          "base_uri": "https://localhost:8080/",
          "height": 478
        },
        "id": "x-Sk7JL-2TEG",
        "outputId": "aee610c9-f56d-4595-a8d5-aa8458916386"
      },
      "source": [
        "import matplotlib.pyplot as plt\n",
        "\n",
        "t_x, t_y = next(train_gen)\n",
        "fig, m_axs = plt.subplots(2, 4, figsize = (16, 8))\n",
        "for (c_x, c_y, c_ax) in zip(t_x, t_y, m_axs.flatten()):\n",
        "    c_ax.imshow(c_x[:,:,0], cmap = 'bone', vmin = 0, vmax = 1)\n",
        "    c_ax.set_title('%s' % ('Pulmonary Abnormality' if np.argmax(c_y)>0.5 else 'Healthy'))\n",
        "    c_ax.axis('off')"
      ],
      "execution_count": null,
      "outputs": [
        {
          "output_type": "display_data",
          "data": {
            "image/png": "[encoded data removed]",
            "text/plain": [
              "<Figure size 1152x576 with 8 Axes>"
            ]
          },
          "metadata": {
            "tags": [],
            "needs_background": "light"
          }
        }
      ]
    },
    {
      "cell_type": "code",
      "metadata": {
        "colab": {
          "base_uri": "https://localhost:8080/"
        },
        "id": "2xOgz3wy2bmk",
        "outputId": "59f93c6d-7ead-49c3-e5b8-5a077a846e17"
      },
      "source": [
        "from keras.applications.vgg16 import VGG16\n",
        "from keras.layers import *\n",
        "from keras.layers.advanced_activations import LeakyReLU\n",
        "from keras.models import *\n",
        "\n",
        "img_shape = (IMG_SIZE, IMG_SIZE, 3)\n",
        "inputs = Input(img_shape)\n",
        "num_classes = 2\n",
        "\n",
        "vgg16_model = VGG16(input_shape =  img_shape, include_top = False, weights = 'imagenet')\n",
        "vgg16_model.trainable = False\n",
        "outputs = vgg16_model(inputs)\n",
        "outputs = BatchNormalization(name = 'BatchNormalization')(outputs)\n",
        "outputs = GlobalAveragePooling2D()(outputs)\n",
        "outputs = Dropout(0.5)(outputs)\n",
        "outputs = Dense(256)(outputs)\n",
        "outputs = LeakyReLU(alpha=0.1)(outputs)\n",
        "outputs = Dropout(0.25)(outputs)\n",
        "outputs = Dense(num_classes, activation = 'softmax')(outputs)\n",
        "\n",
        "model = Model(inputs = [inputs], outputs = [outputs])\n",
        "model.compile(optimizer = 'adam', loss = 'categorical_crossentropy', metrics = ['accuracy'])\n",
        "model.summary()"
      ],
      "execution_count": null,
      "outputs": [
        {
          "output_type": "stream",
          "text": [
            "Downloading data from https://storage.googleapis.com/tensorflow/keras-applications/vgg16/vgg16_weights_tf_dim_ordering_tf_kernels_notop.h5\n",
            "58892288/58889256 [==============================] - 1s 0us/step\n",
            "Model: \"model\"\n",
            "_________________________________________________________________\n",
            "Layer (type)                 Output Shape              Param #   \n",
            "=================================================================\n",
            "input_1 (InputLayer)         [(None, 64, 64, 3)]       0         \n",
            "_________________________________________________________________\n",
            "vgg16 (Functional)           (None, 2, 2, 512)         14714688  \n",
            "_________________________________________________________________\n",
            "BatchNormalization (BatchNor (None, 2, 2, 512)         2048      \n",
            "_________________________________________________________________\n",
            "global_average_pooling2d (Gl (None, 512)               0         \n",
            "_________________________________________________________________\n",
            "dropout (Dropout)            (None, 512)               0         \n",
            "_________________________________________________________________\n",
            "dense (Dense)                (None, 256)               131328    \n",
            "_________________________________________________________________\n",
            "leaky_re_lu (LeakyReLU)      (None, 256)               0         \n",
            "_________________________________________________________________\n",
            "dropout_1 (Dropout)          (None, 256)               0         \n",
            "_________________________________________________________________\n",
            "dense_1 (Dense)              (None, 2)                 514       \n",
            "=================================================================\n",
            "Total params: 14,848,578\n",
            "Trainable params: 132,866\n",
            "Non-trainable params: 14,715,712\n",
            "_________________________________________________________________\n"
          ],
          "name": "stdout"
        }
      ]
    },
    {
      "cell_type": "code",
      "metadata": {
        "colab": {
          "base_uri": "https://localhost:8080/"
        },
        "id": "yOCna0n3EOWC",
        "outputId": "66f8f75d-debf-4565-9997-58bb068239e5"
      },
      "source": [
        "!ls /content/onedrive"
      ],
      "execution_count": null,
      "outputs": [
        {
          "output_type": "stream",
          "text": [
            "ls: cannot access '/content/onedrive': Transport endpoint is not connected\n"
          ],
          "name": "stdout"
        }
      ]
    },
    {
      "cell_type": "code",
      "metadata": {
        "colab": {
          "base_uri": "https://localhost:8080/"
        },
        "id": "tPuE_-5w3xFr",
        "outputId": "5d02fa60-9994-4a20-8072-bb4048ae6777"
      },
      "source": [
        "from keras.callbacks import *\n",
        "\n",
        "weight_path=os.path.join( 'onedrive//Fine Tuning with VGG16', '{}_pretrainedvgg16model.bestweights.hdf5'.format('TB'))\n",
        "checkpoint = ModelCheckpoint(weight_path, monitor='val_acc', verbose=1, save_best_only=True, mode='auto', save_weights_only = True)\n",
        "reduceLROnPlat = ReduceLROnPlateau(monitor='val_loss', factor=0.8, patience=10, verbose=1, mode='auto', epsilon=0.0001, cooldown=5, min_lr=0.0001)\n",
        "early = EarlyStopping(monitor=\"'val_acc'\", mode=\"auto\", patience=30) \n",
        "\n",
        "callbacks_list = [checkpoint, early, reduceLROnPlat]\n",
        "\n",
        "STEP_SIZE_TRAIN=train_gen.n//train_gen.batch_size\n",
        "STEP_SIZE_VALID=valid_gen.n//valid_gen.batch_size\n",
        "model.fit_generator(train_gen, steps_per_epoch=STEP_SIZE_TRAIN, validation_data=valid_gen, validation_steps=STEP_SIZE_VALID,\n",
        "                    epochs = 10, callbacks = callbacks_list)\n",
        "model.save('onedrive/xray-classification-tuberculosis/vgg16-x64')"
      ],
      "execution_count": null,
      "outputs": [
        {
          "output_type": "stream",
          "text": [
            "WARNING:tensorflow:`epsilon` argument is deprecated and will be removed, use `min_delta` instead.\n"
          ],
          "name": "stdout"
        },
        {
          "output_type": "stream",
          "text": [
            "/usr/local/lib/python3.7/dist-packages/tensorflow/python/keras/engine/training.py:1844: UserWarning: `Model.fit_generator` is deprecated and will be removed in a future version. Please use `Model.fit`, which supports generators.\n",
            "  warnings.warn('`Model.fit_generator` is deprecated and '\n"
          ],
          "name": "stderr"
        },
        {
          "output_type": "stream",
          "text": [
            "Epoch 1/10\n",
            "45/45 [==============================] - 377s 8s/step - loss: 0.6943 - accuracy: 0.6268 - val_loss: 0.9176 - val_accuracy: 0.3906\n",
            "WARNING:tensorflow:Can save best model only with val_acc available, skipping.\n",
            "WARNING:tensorflow:Early stopping conditioned on metric `'val_acc'` which is not available. Available metrics are: loss,accuracy,val_loss,val_accuracy\n",
            "Epoch 2/10\n",
            "45/45 [==============================] - 342s 8s/step - loss: 0.5759 - accuracy: 0.7222 - val_loss: 0.7031 - val_accuracy: 0.5312\n",
            "WARNING:tensorflow:Can save best model only with val_acc available, skipping.\n",
            "WARNING:tensorflow:Early stopping conditioned on metric `'val_acc'` which is not available. Available metrics are: loss,accuracy,val_loss,val_accuracy\n",
            "Epoch 3/10\n",
            "45/45 [==============================] - 349s 8s/step - loss: 0.5697 - accuracy: 0.7170 - val_loss: 0.6197 - val_accuracy: 0.6250\n",
            "WARNING:tensorflow:Can save best model only with val_acc available, skipping.\n",
            "WARNING:tensorflow:Early stopping conditioned on metric `'val_acc'` which is not available. Available metrics are: loss,accuracy,val_loss,val_accuracy\n",
            "Epoch 4/10\n",
            "45/45 [==============================] - 346s 8s/step - loss: 0.5636 - accuracy: 0.7476 - val_loss: 0.6275 - val_accuracy: 0.6719\n",
            "WARNING:tensorflow:Can save best model only with val_acc available, skipping.\n",
            "WARNING:tensorflow:Early stopping conditioned on metric `'val_acc'` which is not available. Available metrics are: loss,accuracy,val_loss,val_accuracy\n",
            "Epoch 5/10\n",
            "45/45 [==============================] - 348s 8s/step - loss: 0.6175 - accuracy: 0.7203 - val_loss: 0.5103 - val_accuracy: 0.7656\n",
            "WARNING:tensorflow:Can save best model only with val_acc available, skipping.\n",
            "WARNING:tensorflow:Early stopping conditioned on metric `'val_acc'` which is not available. Available metrics are: loss,accuracy,val_loss,val_accuracy\n",
            "Epoch 6/10\n",
            "45/45 [==============================] - 351s 8s/step - loss: 0.5942 - accuracy: 0.7320 - val_loss: 0.5851 - val_accuracy: 0.6562\n",
            "WARNING:tensorflow:Can save best model only with val_acc available, skipping.\n",
            "WARNING:tensorflow:Early stopping conditioned on metric `'val_acc'` which is not available. Available metrics are: loss,accuracy,val_loss,val_accuracy\n",
            "Epoch 7/10\n",
            "45/45 [==============================] - 351s 8s/step - loss: 0.5596 - accuracy: 0.7463 - val_loss: 0.5479 - val_accuracy: 0.7500\n",
            "WARNING:tensorflow:Can save best model only with val_acc available, skipping.\n",
            "WARNING:tensorflow:Early stopping conditioned on metric `'val_acc'` which is not available. Available metrics are: loss,accuracy,val_loss,val_accuracy\n",
            "Epoch 8/10\n",
            "45/45 [==============================] - 346s 8s/step - loss: 0.5909 - accuracy: 0.7055 - val_loss: 0.5686 - val_accuracy: 0.6719\n",
            "WARNING:tensorflow:Can save best model only with val_acc available, skipping.\n",
            "WARNING:tensorflow:Early stopping conditioned on metric `'val_acc'` which is not available. Available metrics are: loss,accuracy,val_loss,val_accuracy\n",
            "Epoch 9/10\n",
            "45/45 [==============================] - 342s 8s/step - loss: 0.5104 - accuracy: 0.7781 - val_loss: 0.5223 - val_accuracy: 0.7812\n",
            "WARNING:tensorflow:Can save best model only with val_acc available, skipping.\n",
            "WARNING:tensorflow:Early stopping conditioned on metric `'val_acc'` which is not available. Available metrics are: loss,accuracy,val_loss,val_accuracy\n",
            "Epoch 10/10\n",
            "45/45 [==============================] - 340s 8s/step - loss: 0.6276 - accuracy: 0.6841 - val_loss: 0.5716 - val_accuracy: 0.7031\n",
            "WARNING:tensorflow:Can save best model only with val_acc available, skipping.\n",
            "WARNING:tensorflow:Early stopping conditioned on metric `'val_acc'` which is not available. Available metrics are: loss,accuracy,val_loss,val_accuracy\n",
            "INFO:tensorflow:Assets written to: onedrive/xray-classification-tuberculosis/vgg16-x64/assets\n"
          ],
          "name": "stdout"
        }
      ]
    },
    {
      "cell_type": "code",
      "metadata": {
        "id": "5813mgJCaO2p"
      },
      "source": [
        "from keras.models import load_model\n",
        "\n",
        "loaded = load_model('onedrive/xray-classification-tuberculosis/vgg16-x64')\n",
        "loaded.fit_generator(train_gen, steps_per_epoch=STEP_SIZE_TRAIN, validation_data=valid_gen, validation_steps=STEP_SIZE_VALID,\n",
        "                    epochs = 10)\n",
        "loaded.save('onedrive/xray-classification-tuberculosis/vgg16-x64-20')"
      ],
      "execution_count": null,
      "outputs": []
    },
    {
      "cell_type": "markdown",
      "metadata": {
        "id": "is8Zd7nZ9sdZ"
      },
      "source": [
        "Measure accuracy on test data"
      ]
    },
    {
      "cell_type": "code",
      "metadata": {
        "colab": {
          "base_uri": "https://localhost:8080/"
        },
        "id": "5M1BaIy_9wxi",
        "outputId": "2e3e3add-dde5-4e12-fbf9-5e4f650c9a1e"
      },
      "source": [
        "from keras.preprocessing import image_dataset_from_directory\n",
        "\n",
        "results = model.evaluate_generator(valid_gen)\n",
        "print(\"test loss, test acc:\", results)"
      ],
      "execution_count": null,
      "outputs": [
        {
          "output_type": "stream",
          "text": [
            "/usr/local/lib/python3.7/dist-packages/tensorflow/python/keras/engine/training.py:1877: UserWarning: `Model.evaluate_generator` is deprecated and will be removed in a future version. Please use `Model.evaluate`, which supports generators.\n",
            "  warnings.warn('`Model.evaluate_generator` is deprecated and '\n"
          ],
          "name": "stderr"
        },
        {
          "output_type": "stream",
          "text": [
            "test loss, test acc: [0.6229875683784485, 0.6455696225166321]\n"
          ],
          "name": "stdout"
        }
      ]
    }
  ]
}